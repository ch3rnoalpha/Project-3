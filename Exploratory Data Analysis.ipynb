{
 "cells": [
  {
   "cell_type": "code",
   "execution_count": 1,
   "id": "4caf3233",
   "metadata": {},
   "outputs": [],
   "source": [
    "## Standard Imports\n",
    "import numpy as np\n",
    "import pandas as pd\n",
    "import matplotlib.pyplot as plt\n",
    "import seaborn as sns\n",
    "## Importing the OS and JSON Modules\n",
    "import os,json"
   ]
  },
  {
   "cell_type": "code",
   "execution_count": 2,
   "id": "61195483",
   "metadata": {},
   "outputs": [],
   "source": [
    "df_2000 = pd.read_csv('Data/final_tmdb_data_2000.csv.gz')\n",
    "df_2001 = pd.read_csv('Data/final_tmdb_data_2001.csv.gz')"
   ]
  },
  {
   "cell_type": "code",
   "execution_count": 3,
   "id": "a3e9312d",
   "metadata": {},
   "outputs": [
    {
     "name": "stdout",
     "output_type": "stream",
     "text": [
      "<class 'pandas.core.frame.DataFrame'>\n",
      "RangeIndex: 1307 entries, 0 to 1306\n",
      "Data columns (total 26 columns):\n",
      " #   Column                 Non-Null Count  Dtype  \n",
      "---  ------                 --------------  -----  \n",
      " 0   imdb_id                1307 non-null   object \n",
      " 1   adult                  1306 non-null   float64\n",
      " 2   backdrop_path          660 non-null    object \n",
      " 3   belongs_to_collection  88 non-null     object \n",
      " 4   budget                 1306 non-null   float64\n",
      " 5   genres                 1306 non-null   object \n",
      " 6   homepage               110 non-null    object \n",
      " 7   id                     1306 non-null   float64\n",
      " 8   original_language      1306 non-null   object \n",
      " 9   original_title         1306 non-null   object \n",
      " 10  overview               1278 non-null   object \n",
      " 11  popularity             1306 non-null   float64\n",
      " 12  poster_path            1144 non-null   object \n",
      " 13  production_companies   1306 non-null   object \n",
      " 14  production_countries   1306 non-null   object \n",
      " 15  release_date           1298 non-null   object \n",
      " 16  revenue                1306 non-null   float64\n",
      " 17  runtime                1306 non-null   float64\n",
      " 18  spoken_languages       1306 non-null   object \n",
      " 19  status                 1306 non-null   object \n",
      " 20  tagline                539 non-null    object \n",
      " 21  title                  1306 non-null   object \n",
      " 22  video                  1306 non-null   float64\n",
      " 23  vote_average           1306 non-null   float64\n",
      " 24  vote_count             1306 non-null   float64\n",
      " 25  certification          430 non-null    object \n",
      "dtypes: float64(9), object(17)\n",
      "memory usage: 265.6+ KB\n"
     ]
    }
   ],
   "source": [
    "df_2000.info()"
   ]
  },
  {
   "cell_type": "code",
   "execution_count": 4,
   "id": "d558d0df",
   "metadata": {},
   "outputs": [
    {
     "name": "stdout",
     "output_type": "stream",
     "text": [
      "<class 'pandas.core.frame.DataFrame'>\n",
      "RangeIndex: 1309 entries, 0 to 1308\n",
      "Data columns (total 26 columns):\n",
      " #   Column                 Non-Null Count  Dtype  \n",
      "---  ------                 --------------  -----  \n",
      " 0   imdb_id                1309 non-null   object \n",
      " 1   adult                  1308 non-null   float64\n",
      " 2   backdrop_path          663 non-null    object \n",
      " 3   belongs_to_collection  88 non-null     object \n",
      " 4   budget                 1308 non-null   float64\n",
      " 5   genres                 1308 non-null   object \n",
      " 6   homepage               110 non-null    object \n",
      " 7   id                     1308 non-null   float64\n",
      " 8   original_language      1308 non-null   object \n",
      " 9   original_title         1308 non-null   object \n",
      " 10  overview               1280 non-null   object \n",
      " 11  popularity             1308 non-null   float64\n",
      " 12  poster_path            1146 non-null   object \n",
      " 13  production_companies   1308 non-null   object \n",
      " 14  production_countries   1308 non-null   object \n",
      " 15  release_date           1300 non-null   object \n",
      " 16  revenue                1308 non-null   float64\n",
      " 17  runtime                1308 non-null   float64\n",
      " 18  spoken_languages       1308 non-null   object \n",
      " 19  status                 1308 non-null   object \n",
      " 20  tagline                541 non-null    object \n",
      " 21  title                  1308 non-null   object \n",
      " 22  video                  1308 non-null   float64\n",
      " 23  vote_average           1308 non-null   float64\n",
      " 24  vote_count             1308 non-null   float64\n",
      " 25  certification          433 non-null    object \n",
      "dtypes: float64(9), object(17)\n",
      "memory usage: 266.0+ KB\n"
     ]
    }
   ],
   "source": [
    "df_2001.info()"
   ]
  },
  {
   "cell_type": "code",
   "execution_count": 5,
   "id": "59b1b992",
   "metadata": {},
   "outputs": [
    {
     "name": "stdout",
     "output_type": "stream",
     "text": [
      "<class 'pandas.core.frame.DataFrame'>\n",
      "Int64Index: 2616 entries, 0 to 1308\n",
      "Data columns (total 26 columns):\n",
      " #   Column                 Non-Null Count  Dtype  \n",
      "---  ------                 --------------  -----  \n",
      " 0   imdb_id                2616 non-null   object \n",
      " 1   adult                  2614 non-null   float64\n",
      " 2   backdrop_path          1323 non-null   object \n",
      " 3   belongs_to_collection  176 non-null    object \n",
      " 4   budget                 2614 non-null   float64\n",
      " 5   genres                 2614 non-null   object \n",
      " 6   homepage               220 non-null    object \n",
      " 7   id                     2614 non-null   float64\n",
      " 8   original_language      2614 non-null   object \n",
      " 9   original_title         2614 non-null   object \n",
      " 10  overview               2558 non-null   object \n",
      " 11  popularity             2614 non-null   float64\n",
      " 12  poster_path            2290 non-null   object \n",
      " 13  production_companies   2614 non-null   object \n",
      " 14  production_countries   2614 non-null   object \n",
      " 15  release_date           2598 non-null   object \n",
      " 16  revenue                2614 non-null   float64\n",
      " 17  runtime                2614 non-null   float64\n",
      " 18  spoken_languages       2614 non-null   object \n",
      " 19  status                 2614 non-null   object \n",
      " 20  tagline                1080 non-null   object \n",
      " 21  title                  2614 non-null   object \n",
      " 22  video                  2614 non-null   float64\n",
      " 23  vote_average           2614 non-null   float64\n",
      " 24  vote_count             2614 non-null   float64\n",
      " 25  certification          863 non-null    object \n",
      "dtypes: float64(9), object(17)\n",
      "memory usage: 551.8+ KB\n"
     ]
    }
   ],
   "source": [
    "df_list = [df_2000, df_2001]\n",
    "\n",
    "final_df = pd.concat(df_list)\n",
    "final_df.info()"
   ]
  },
  {
   "cell_type": "code",
   "execution_count": 6,
   "id": "113b7077",
   "metadata": {},
   "outputs": [
    {
     "data": {
      "text/plain": [
       "imdb_id                     0\n",
       "adult                       2\n",
       "backdrop_path            1293\n",
       "belongs_to_collection    2440\n",
       "budget                      2\n",
       "genres                      2\n",
       "homepage                 2396\n",
       "id                          2\n",
       "original_language           2\n",
       "original_title              2\n",
       "overview                   58\n",
       "popularity                  2\n",
       "poster_path               326\n",
       "production_companies        2\n",
       "production_countries        2\n",
       "release_date               18\n",
       "revenue                     2\n",
       "runtime                     2\n",
       "spoken_languages            2\n",
       "status                      2\n",
       "tagline                  1536\n",
       "title                       2\n",
       "video                       2\n",
       "vote_average                2\n",
       "vote_count                  2\n",
       "certification            1753\n",
       "dtype: int64"
      ]
     },
     "execution_count": 6,
     "metadata": {},
     "output_type": "execute_result"
    }
   ],
   "source": [
    "final_df.isna().sum()"
   ]
  },
  {
   "cell_type": "code",
   "execution_count": 7,
   "id": "9e81ab27",
   "metadata": {},
   "outputs": [],
   "source": [
    "final_df.dropna(inplace=True)"
   ]
  },
  {
   "cell_type": "code",
   "execution_count": 8,
   "id": "46cc5952",
   "metadata": {},
   "outputs": [
    {
     "data": {
      "text/plain": [
       "11"
      ]
     },
     "execution_count": 8,
     "metadata": {},
     "output_type": "execute_result"
    }
   ],
   "source": [
    "rev_filter = final_df['revenue'] > 0\n",
    "budget_filter = final_df['budget'] > 0\n",
    "financial_df = final_df.loc[rev_filter & budget_filter,:]\n",
    "\n",
    "financial_df['imdb_id'].nunique()"
   ]
  },
  {
   "cell_type": "markdown",
   "id": "401ae396",
   "metadata": {},
   "source": [
    "Quesiton 1: 11 titles"
   ]
  },
  {
   "cell_type": "code",
   "execution_count": 9,
   "id": "f46206e5",
   "metadata": {},
   "outputs": [
    {
     "data": {
      "text/plain": [
       "PG       10\n",
       "PG-13     8\n",
       "R         6\n",
       "G         2\n",
       "Name: certification, dtype: int64"
      ]
     },
     "execution_count": 9,
     "metadata": {},
     "output_type": "execute_result"
    }
   ],
   "source": [
    "financial_df['certification'].value_counts()"
   ]
  },
  {
   "cell_type": "code",
   "execution_count": 10,
   "id": "803ed68f",
   "metadata": {},
   "outputs": [
    {
     "name": "stdout",
     "output_type": "stream",
     "text": [
      "<class 'pandas.core.frame.DataFrame'>\n",
      "Int64Index: 26 entries, 12 to 578\n",
      "Data columns (total 26 columns):\n",
      " #   Column                 Non-Null Count  Dtype  \n",
      "---  ------                 --------------  -----  \n",
      " 0   imdb_id                26 non-null     object \n",
      " 1   adult                  26 non-null     float64\n",
      " 2   backdrop_path          26 non-null     object \n",
      " 3   belongs_to_collection  26 non-null     object \n",
      " 4   budget                 26 non-null     float64\n",
      " 5   genres                 26 non-null     object \n",
      " 6   homepage               26 non-null     object \n",
      " 7   id                     26 non-null     float64\n",
      " 8   original_language      26 non-null     object \n",
      " 9   original_title         26 non-null     object \n",
      " 10  overview               26 non-null     object \n",
      " 11  popularity             26 non-null     float64\n",
      " 12  poster_path            26 non-null     object \n",
      " 13  production_companies   26 non-null     object \n",
      " 14  production_countries   26 non-null     object \n",
      " 15  release_date           26 non-null     object \n",
      " 16  revenue                26 non-null     float64\n",
      " 17  runtime                26 non-null     float64\n",
      " 18  spoken_languages       26 non-null     object \n",
      " 19  status                 26 non-null     object \n",
      " 20  tagline                26 non-null     object \n",
      " 21  title                  26 non-null     object \n",
      " 22  video                  26 non-null     float64\n",
      " 23  vote_average           26 non-null     float64\n",
      " 24  vote_count             26 non-null     float64\n",
      " 25  certification          26 non-null     object \n",
      "dtypes: float64(9), object(17)\n",
      "memory usage: 5.5+ KB\n"
     ]
    }
   ],
   "source": [
    "financial_df.info()"
   ]
  },
  {
   "cell_type": "code",
   "execution_count": 17,
   "id": "78d98ec1",
   "metadata": {},
   "outputs": [
    {
     "name": "stdout",
     "output_type": "stream",
     "text": [
      "  certification       revenue\n",
      "0             G $579707738.00\n",
      "1            PG $446322213.20\n",
      "2         PG-13 $554268371.75\n",
      "3             R  $37166104.00\n"
     ]
    }
   ],
   "source": [
    "with pd.option_context('display.float_format', '${:0.2f}'.format):\n",
    "   print(financial_df.groupby('certification', as_index=False)['revenue'].mean())"
   ]
  },
  {
   "cell_type": "code",
   "execution_count": 18,
   "id": "7dab8d74",
   "metadata": {},
   "outputs": [
    {
     "name": "stdout",
     "output_type": "stream",
     "text": [
      "  certification        budget\n",
      "0             G $115000000.00\n",
      "1            PG  $85000000.00\n",
      "2         PG-13  $75250000.00\n",
      "3             R  $11066666.67\n"
     ]
    }
   ],
   "source": [
    "with pd.option_context('display.float_format', '${:0.2f}'.format):\n",
    "   print(financial_df.groupby('certification', as_index=False)['budget'].mean())"
   ]
  },
  {
   "cell_type": "code",
   "execution_count": 22,
   "id": "9ec32c8c",
   "metadata": {},
   "outputs": [],
   "source": [
    "## Save current dataframe to file.\n",
    "financial_df.to_csv(\"Data/tmdb_results_combined.csv.gz\",compression='gzip',index=False)"
   ]
  },
  {
   "cell_type": "code",
   "execution_count": 23,
   "id": "f0cbda73",
   "metadata": {},
   "outputs": [
    {
     "data": {
      "text/html": [
       "<div>\n",
       "<style scoped>\n",
       "    .dataframe tbody tr th:only-of-type {\n",
       "        vertical-align: middle;\n",
       "    }\n",
       "\n",
       "    .dataframe tbody tr th {\n",
       "        vertical-align: top;\n",
       "    }\n",
       "\n",
       "    .dataframe thead th {\n",
       "        text-align: right;\n",
       "    }\n",
       "</style>\n",
       "<table border=\"1\" class=\"dataframe\">\n",
       "  <thead>\n",
       "    <tr style=\"text-align: right;\">\n",
       "      <th></th>\n",
       "      <th>imdb_id</th>\n",
       "      <th>adult</th>\n",
       "      <th>backdrop_path</th>\n",
       "      <th>belongs_to_collection</th>\n",
       "      <th>budget</th>\n",
       "      <th>genres</th>\n",
       "      <th>homepage</th>\n",
       "      <th>id</th>\n",
       "      <th>original_language</th>\n",
       "      <th>original_title</th>\n",
       "      <th>...</th>\n",
       "      <th>revenue</th>\n",
       "      <th>runtime</th>\n",
       "      <th>spoken_languages</th>\n",
       "      <th>status</th>\n",
       "      <th>tagline</th>\n",
       "      <th>title</th>\n",
       "      <th>video</th>\n",
       "      <th>vote_average</th>\n",
       "      <th>vote_count</th>\n",
       "      <th>certification</th>\n",
       "    </tr>\n",
       "  </thead>\n",
       "  <tbody>\n",
       "    <tr>\n",
       "      <th>0</th>\n",
       "      <td>tt0120737</td>\n",
       "      <td>0.0</td>\n",
       "      <td>/keyOZ8KcjHMTVH8p0owTXvw18Wf.jpg</td>\n",
       "      <td>{'id': 119, 'name': 'The Lord of the Rings Col...</td>\n",
       "      <td>93000000.0</td>\n",
       "      <td>[{'id': 12, 'name': 'Adventure'}, {'id': 14, '...</td>\n",
       "      <td>http://www.lordoftherings.net/</td>\n",
       "      <td>120.0</td>\n",
       "      <td>en</td>\n",
       "      <td>The Lord of the Rings: The Fellowship of the Ring</td>\n",
       "      <td>...</td>\n",
       "      <td>871368364.0</td>\n",
       "      <td>179.0</td>\n",
       "      <td>[{'english_name': 'English', 'iso_639_1': 'en'...</td>\n",
       "      <td>Released</td>\n",
       "      <td>One ring to rule them all</td>\n",
       "      <td>The Lord of the Rings: The Fellowship of the Ring</td>\n",
       "      <td>0.0</td>\n",
       "      <td>8.4</td>\n",
       "      <td>21139.0</td>\n",
       "      <td>PG-13</td>\n",
       "    </tr>\n",
       "    <tr>\n",
       "      <th>1</th>\n",
       "      <td>tt0126029</td>\n",
       "      <td>0.0</td>\n",
       "      <td>/sRvXNDItGlWCqtO3j6wks52FmbD.jpg</td>\n",
       "      <td>{'id': 2150, 'name': 'Shrek Collection', 'post...</td>\n",
       "      <td>60000000.0</td>\n",
       "      <td>[{'id': 16, 'name': 'Animation'}, {'id': 35, '...</td>\n",
       "      <td>http://www.dreamworksanimation.com/shrek/</td>\n",
       "      <td>808.0</td>\n",
       "      <td>en</td>\n",
       "      <td>Shrek</td>\n",
       "      <td>...</td>\n",
       "      <td>487853320.0</td>\n",
       "      <td>90.0</td>\n",
       "      <td>[{'english_name': 'English', 'iso_639_1': 'en'...</td>\n",
       "      <td>Released</td>\n",
       "      <td>The greatest fairy tale never told.</td>\n",
       "      <td>Shrek</td>\n",
       "      <td>0.0</td>\n",
       "      <td>7.7</td>\n",
       "      <td>14030.0</td>\n",
       "      <td>PG</td>\n",
       "    </tr>\n",
       "    <tr>\n",
       "      <th>2</th>\n",
       "      <td>tt0120737</td>\n",
       "      <td>0.0</td>\n",
       "      <td>/keyOZ8KcjHMTVH8p0owTXvw18Wf.jpg</td>\n",
       "      <td>{'id': 119, 'name': 'The Lord of the Rings Col...</td>\n",
       "      <td>93000000.0</td>\n",
       "      <td>[{'id': 12, 'name': 'Adventure'}, {'id': 14, '...</td>\n",
       "      <td>http://www.lordoftherings.net/</td>\n",
       "      <td>120.0</td>\n",
       "      <td>en</td>\n",
       "      <td>The Lord of the Rings: The Fellowship of the Ring</td>\n",
       "      <td>...</td>\n",
       "      <td>871368364.0</td>\n",
       "      <td>179.0</td>\n",
       "      <td>[{'english_name': 'English', 'iso_639_1': 'en'...</td>\n",
       "      <td>Released</td>\n",
       "      <td>One ring to rule them all</td>\n",
       "      <td>The Lord of the Rings: The Fellowship of the Ring</td>\n",
       "      <td>0.0</td>\n",
       "      <td>8.4</td>\n",
       "      <td>21139.0</td>\n",
       "      <td>PG-13</td>\n",
       "    </tr>\n",
       "    <tr>\n",
       "      <th>3</th>\n",
       "      <td>tt0126029</td>\n",
       "      <td>0.0</td>\n",
       "      <td>/sRvXNDItGlWCqtO3j6wks52FmbD.jpg</td>\n",
       "      <td>{'id': 2150, 'name': 'Shrek Collection', 'post...</td>\n",
       "      <td>60000000.0</td>\n",
       "      <td>[{'id': 16, 'name': 'Animation'}, {'id': 35, '...</td>\n",
       "      <td>http://www.dreamworksanimation.com/shrek/</td>\n",
       "      <td>808.0</td>\n",
       "      <td>en</td>\n",
       "      <td>Shrek</td>\n",
       "      <td>...</td>\n",
       "      <td>487853320.0</td>\n",
       "      <td>90.0</td>\n",
       "      <td>[{'english_name': 'English', 'iso_639_1': 'en'...</td>\n",
       "      <td>Released</td>\n",
       "      <td>The greatest fairy tale never told.</td>\n",
       "      <td>Shrek</td>\n",
       "      <td>0.0</td>\n",
       "      <td>7.7</td>\n",
       "      <td>14030.0</td>\n",
       "      <td>PG</td>\n",
       "    </tr>\n",
       "    <tr>\n",
       "      <th>4</th>\n",
       "      <td>tt0198781</td>\n",
       "      <td>0.0</td>\n",
       "      <td>/vUTVUdfbsY4DePCYzxxDMXKp6v6.jpg</td>\n",
       "      <td>{'id': 137696, 'name': 'Monsters, Inc. Collect...</td>\n",
       "      <td>115000000.0</td>\n",
       "      <td>[{'id': 16, 'name': 'Animation'}, {'id': 35, '...</td>\n",
       "      <td>http://movies.disney.com/monsters-inc</td>\n",
       "      <td>585.0</td>\n",
       "      <td>en</td>\n",
       "      <td>Monsters, Inc.</td>\n",
       "      <td>...</td>\n",
       "      <td>579707738.0</td>\n",
       "      <td>92.0</td>\n",
       "      <td>[{'english_name': 'English', 'iso_639_1': 'en'...</td>\n",
       "      <td>Released</td>\n",
       "      <td>We Scare Because We Care.</td>\n",
       "      <td>Monsters, Inc.</td>\n",
       "      <td>0.0</td>\n",
       "      <td>7.8</td>\n",
       "      <td>15649.0</td>\n",
       "      <td>G</td>\n",
       "    </tr>\n",
       "  </tbody>\n",
       "</table>\n",
       "<p>5 rows × 26 columns</p>\n",
       "</div>"
      ],
      "text/plain": [
       "     imdb_id  adult                     backdrop_path  \\\n",
       "0  tt0120737    0.0  /keyOZ8KcjHMTVH8p0owTXvw18Wf.jpg   \n",
       "1  tt0126029    0.0  /sRvXNDItGlWCqtO3j6wks52FmbD.jpg   \n",
       "2  tt0120737    0.0  /keyOZ8KcjHMTVH8p0owTXvw18Wf.jpg   \n",
       "3  tt0126029    0.0  /sRvXNDItGlWCqtO3j6wks52FmbD.jpg   \n",
       "4  tt0198781    0.0  /vUTVUdfbsY4DePCYzxxDMXKp6v6.jpg   \n",
       "\n",
       "                               belongs_to_collection       budget  \\\n",
       "0  {'id': 119, 'name': 'The Lord of the Rings Col...   93000000.0   \n",
       "1  {'id': 2150, 'name': 'Shrek Collection', 'post...   60000000.0   \n",
       "2  {'id': 119, 'name': 'The Lord of the Rings Col...   93000000.0   \n",
       "3  {'id': 2150, 'name': 'Shrek Collection', 'post...   60000000.0   \n",
       "4  {'id': 137696, 'name': 'Monsters, Inc. Collect...  115000000.0   \n",
       "\n",
       "                                              genres  \\\n",
       "0  [{'id': 12, 'name': 'Adventure'}, {'id': 14, '...   \n",
       "1  [{'id': 16, 'name': 'Animation'}, {'id': 35, '...   \n",
       "2  [{'id': 12, 'name': 'Adventure'}, {'id': 14, '...   \n",
       "3  [{'id': 16, 'name': 'Animation'}, {'id': 35, '...   \n",
       "4  [{'id': 16, 'name': 'Animation'}, {'id': 35, '...   \n",
       "\n",
       "                                    homepage     id original_language  \\\n",
       "0             http://www.lordoftherings.net/  120.0                en   \n",
       "1  http://www.dreamworksanimation.com/shrek/  808.0                en   \n",
       "2             http://www.lordoftherings.net/  120.0                en   \n",
       "3  http://www.dreamworksanimation.com/shrek/  808.0                en   \n",
       "4      http://movies.disney.com/monsters-inc  585.0                en   \n",
       "\n",
       "                                      original_title  ...      revenue  \\\n",
       "0  The Lord of the Rings: The Fellowship of the Ring  ...  871368364.0   \n",
       "1                                              Shrek  ...  487853320.0   \n",
       "2  The Lord of the Rings: The Fellowship of the Ring  ...  871368364.0   \n",
       "3                                              Shrek  ...  487853320.0   \n",
       "4                                     Monsters, Inc.  ...  579707738.0   \n",
       "\n",
       "   runtime                                   spoken_languages    status  \\\n",
       "0    179.0  [{'english_name': 'English', 'iso_639_1': 'en'...  Released   \n",
       "1     90.0  [{'english_name': 'English', 'iso_639_1': 'en'...  Released   \n",
       "2    179.0  [{'english_name': 'English', 'iso_639_1': 'en'...  Released   \n",
       "3     90.0  [{'english_name': 'English', 'iso_639_1': 'en'...  Released   \n",
       "4     92.0  [{'english_name': 'English', 'iso_639_1': 'en'...  Released   \n",
       "\n",
       "                               tagline  \\\n",
       "0            One ring to rule them all   \n",
       "1  The greatest fairy tale never told.   \n",
       "2            One ring to rule them all   \n",
       "3  The greatest fairy tale never told.   \n",
       "4            We Scare Because We Care.   \n",
       "\n",
       "                                               title  video  vote_average  \\\n",
       "0  The Lord of the Rings: The Fellowship of the Ring    0.0           8.4   \n",
       "1                                              Shrek    0.0           7.7   \n",
       "2  The Lord of the Rings: The Fellowship of the Ring    0.0           8.4   \n",
       "3                                              Shrek    0.0           7.7   \n",
       "4                                     Monsters, Inc.    0.0           7.8   \n",
       "\n",
       "  vote_count certification  \n",
       "0    21139.0         PG-13  \n",
       "1    14030.0            PG  \n",
       "2    21139.0         PG-13  \n",
       "3    14030.0            PG  \n",
       "4    15649.0             G  \n",
       "\n",
       "[5 rows x 26 columns]"
      ]
     },
     "execution_count": 23,
     "metadata": {},
     "output_type": "execute_result"
    }
   ],
   "source": [
    "# Open saved file and preview again\n",
    "financial_df = pd.read_csv(\"Data/tmdb_results_combined.csv.gz\", low_memory = False)\n",
    "financial_df.head()"
   ]
  },
  {
   "cell_type": "code",
   "execution_count": null,
   "id": "cf589e72",
   "metadata": {},
   "outputs": [],
   "source": []
  }
 ],
 "metadata": {
  "kernelspec": {
   "display_name": "Python (dojo-env)",
   "language": "python",
   "name": "dojo-env"
  },
  "language_info": {
   "codemirror_mode": {
    "name": "ipython",
    "version": 3
   },
   "file_extension": ".py",
   "mimetype": "text/x-python",
   "name": "python",
   "nbconvert_exporter": "python",
   "pygments_lexer": "ipython3",
   "version": "3.7.12"
  },
  "toc": {
   "base_numbering": 1,
   "nav_menu": {},
   "number_sections": true,
   "sideBar": true,
   "skip_h1_title": false,
   "title_cell": "Table of Contents",
   "title_sidebar": "Contents",
   "toc_cell": false,
   "toc_position": {},
   "toc_section_display": true,
   "toc_window_display": false
  }
 },
 "nbformat": 4,
 "nbformat_minor": 5
}
